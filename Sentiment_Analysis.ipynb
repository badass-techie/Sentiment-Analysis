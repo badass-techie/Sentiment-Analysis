{
  "nbformat": 4,
  "nbformat_minor": 0,
  "metadata": {
    "colab": {
      "name": "Sentiment Analysis.ipynb",
      "provenance": [],
      "collapsed_sections": []
    },
    "kernelspec": {
      "name": "python3",
      "display_name": "Python 3"
    },
    "language_info": {
      "name": "python"
    },
    "accelerator": "GPU"
  },
  "cells": [
    {
      "cell_type": "code",
      "metadata": {
        "id": "yUeCTBvBEj7s"
      },
      "source": [
        "#import packages\n",
        "import tensorflow as tf\n",
        "from tensorflow.keras import Sequential, layers, Model, Input, optimizers, losses\n",
        "import numpy as np\n",
        "from matplotlib import pyplot as plt\n",
        "from nltk.tokenize import RegexpTokenizer\n",
        "from tqdm import tqdm\n",
        "import time\n",
        "\n",
        "plt.style.use(\"seaborn\")"
      ],
      "execution_count": 1,
      "outputs": []
    },
    {
      "cell_type": "code",
      "metadata": {
        "colab": {
          "base_uri": "https://localhost:8080/"
        },
        "id": "C0iZuE4tWRqq",
        "outputId": "83298865-ed41-42a7-f4ca-202a99e6b592"
      },
      "source": [
        "# get word embeddings\n",
        "!wget http://nlp.stanford.edu/data/glove.6B.zip\n",
        "!unzip -q glove.6B.zip"
      ],
      "execution_count": 2,
      "outputs": [
        {
          "output_type": "stream",
          "text": [
            "--2021-08-21 16:22:39--  http://nlp.stanford.edu/data/glove.6B.zip\n",
            "Resolving nlp.stanford.edu (nlp.stanford.edu)... 171.64.67.140\n",
            "Connecting to nlp.stanford.edu (nlp.stanford.edu)|171.64.67.140|:80... connected.\n",
            "HTTP request sent, awaiting response... 302 Found\n",
            "Location: https://nlp.stanford.edu/data/glove.6B.zip [following]\n",
            "--2021-08-21 16:22:39--  https://nlp.stanford.edu/data/glove.6B.zip\n",
            "Connecting to nlp.stanford.edu (nlp.stanford.edu)|171.64.67.140|:443... connected.\n",
            "HTTP request sent, awaiting response... 301 Moved Permanently\n",
            "Location: http://downloads.cs.stanford.edu/nlp/data/glove.6B.zip [following]\n",
            "--2021-08-21 16:22:40--  http://downloads.cs.stanford.edu/nlp/data/glove.6B.zip\n",
            "Resolving downloads.cs.stanford.edu (downloads.cs.stanford.edu)... 171.64.64.22\n",
            "Connecting to downloads.cs.stanford.edu (downloads.cs.stanford.edu)|171.64.64.22|:80... connected.\n",
            "HTTP request sent, awaiting response... 200 OK\n",
            "Length: 862182613 (822M) [application/zip]\n",
            "Saving to: ‘glove.6B.zip’\n",
            "\n",
            "glove.6B.zip        100%[===================>] 822.24M  5.05MB/s    in 2m 42s  \n",
            "\n",
            "2021-08-21 16:25:22 (5.09 MB/s) - ‘glove.6B.zip’ saved [862182613/862182613]\n",
            "\n"
          ],
          "name": "stdout"
        }
      ]
    },
    {
      "cell_type": "code",
      "metadata": {
        "id": "PwVXnRIOnKz3",
        "colab": {
          "base_uri": "https://localhost:8080/"
        },
        "outputId": "6ad34379-f5a4-454d-b0d9-440cda5e880e"
      },
      "source": [
        "# fetch dataset\n",
        " \n",
        "!mkdir ~/.kaggle\n",
        "!touch ~/.kaggle/kaggle.json\n",
        " \n",
        "api_token = {\"username\":\"badasstechie\",\"key\":\"17559c6155570222ecdcb9ecea36c1cb\"}\n",
        " \n",
        "import json\n",
        " \n",
        "with open('/root/.kaggle/kaggle.json', 'w') as file:\n",
        "  json.dump(api_token, file)\n",
        " \n",
        "!chmod 600 ~/.kaggle/kaggle.json\n",
        " \n",
        "!kaggle --version\n",
        "!kaggle datasets download arashnic/7-nlp-tasks-with-tweets\n",
        "\n",
        "!unzip -q 7-nlp-tasks-with-tweets.zip"
      ],
      "execution_count": 3,
      "outputs": [
        {
          "output_type": "stream",
          "text": [
            "Kaggle API 1.5.4\n",
            "Downloading 7-nlp-tasks-with-tweets.zip to /content\n",
            " 62% 5.00M/8.01M [00:00<00:00, 24.6MB/s]\n",
            "100% 8.01M/8.01M [00:00<00:00, 31.6MB/s]\n"
          ],
          "name": "stdout"
        }
      ]
    },
    {
      "cell_type": "code",
      "metadata": {
        "id": "FwnblBTob4CL"
      },
      "source": [
        "# constants\n",
        "\n",
        "EMBEDDING_DIM = 300\n",
        "MAPPINGS = [line.split()[1] for line in open('/content/datasets/emotion/mapping.txt').readlines() if line != '']\n",
        "OUTPUT_DIM = len(MAPPINGS)"
      ],
      "execution_count": 4,
      "outputs": []
    },
    {
      "cell_type": "code",
      "metadata": {
        "id": "nMWdFX2Ua716"
      },
      "source": [
        "# prepare dictionary\n",
        "\n",
        "WORD_TO_INDEX = {}\n",
        "EMBEDDING_MATRIX = [np.zeros(300)] #word at index 0 is the <UNKNOWN> token and has embeddings of zero\n",
        "\n",
        "def prepare_embeddings(filepath):\n",
        "    global EMBEDDING_MATRIX\n",
        "    with open(filepath) as f:\n",
        "        for ix, line in enumerate(f):\n",
        "            word, coefs = line.split(maxsplit=1)\n",
        "            coefs = np.fromstring(coefs, \"f\", sep=\" \")\n",
        "            WORD_TO_INDEX[word] = ix+1  #we start at 1 because 0 is reserved for the <UNKNOWN> token\n",
        "            EMBEDDING_MATRIX += [coefs]\n",
        "    EMBEDDING_MATRIX = np.vstack(EMBEDDING_MATRIX).astype(np.float32)\n",
        "\n",
        "prepare_embeddings('/content/glove.6B.300d.txt')"
      ],
      "execution_count": 5,
      "outputs": []
    },
    {
      "cell_type": "code",
      "metadata": {
        "id": "OdZmqx4kyjJl"
      },
      "source": [
        "# tokenize and vectorize dataset\n",
        "\n",
        "tokenizer = RegexpTokenizer(r'\\w+')\n",
        "TRAIN_X = [[WORD_TO_INDEX.get(word.lower(), 0) for word in tokenizer.tokenize(line)] for line in open('/content/datasets/emotion/train_text.txt').readlines() if line != '']  # tokenize then represent each word with its index in embedding matrix\n",
        "max_seq_length = max([len(seq) for seq in TRAIN_X])\n",
        "TRAIN_X = [seq + ([0] * (max_seq_length - len(seq))) for seq in TRAIN_X]  #pad zeros (<UNKNOWN> token) at end\n",
        "TRAIN_X = np.array(TRAIN_X, dtype=np.int32)\n",
        "\n",
        "TRAIN_Y = [int(line) for line in open('/content/datasets/emotion/train_labels.txt').readlines() if line != '']\n",
        "for i in range(len(TRAIN_Y)):\n",
        "    arr = np.zeros((OUTPUT_DIM))\n",
        "    arr[TRAIN_Y[i]] = 1\n",
        "    TRAIN_Y[i] = arr\n",
        "TRAIN_Y = np.array(TRAIN_Y, dtype=np.float32)\n",
        "\n",
        "\n",
        "TEST_X = [[WORD_TO_INDEX.get(word.lower(), 0) for word in tokenizer.tokenize(line)] for line in open('/content/datasets/emotion/test_text.txt').readlines() if line != '']\n",
        "max_seq_length = max([len(seq) for seq in TEST_X])\n",
        "TEST_X = [seq + ([0] * (max_seq_length - len(seq))) for seq in TEST_X]  #pad zeros (<UNKNOWN> token) at end\n",
        "TEST_X = np.array(TEST_X, dtype=np.int32)\n",
        "\n",
        "TEST_Y = [int(line) for line in open('/content/datasets/emotion/test_labels.txt').readlines() if line != '']\n",
        "for i in range(len(TEST_Y)):\n",
        "    arr = np.zeros((OUTPUT_DIM))\n",
        "    arr[TEST_Y[i]] = 1\n",
        "    TEST_Y[i] = arr\n",
        "TEST_Y = np.array(TEST_Y, dtype=np.float32)\n",
        "\n",
        "\n",
        "VALID_X = [[WORD_TO_INDEX.get(word.lower(), 0) for word in tokenizer.tokenize(line)] for line in open('/content/datasets/emotion/val_text.txt').readlines() if line != '']\n",
        "max_seq_length = max([len(seq) for seq in VALID_X])\n",
        "VALID_X = [seq + ([0] * (max_seq_length - len(seq))) for seq in VALID_X]  #pad zeros (<UNKNOWN> token) at end\n",
        "VALID_X = np.array(VALID_X, dtype=np.int32)\n",
        "\n",
        "VALID_Y = [int(line) for line in open('/content/datasets/emotion/val_labels.txt').readlines() if line != '']\n",
        "for i in range(len(VALID_Y)):\n",
        "    arr = np.zeros((OUTPUT_DIM))\n",
        "    arr[VALID_Y[i]] = 1\n",
        "    VALID_Y[i] = arr\n",
        "VALID_Y = np.array(VALID_Y, dtype=np.float32)\n",
        "    "
      ],
      "execution_count": 6,
      "outputs": []
    },
    {
      "cell_type": "code",
      "metadata": {
        "id": "yYcgdSe0FJiz"
      },
      "source": [
        "# helper functions\n",
        "\n",
        "#displays time as h:mm:ss\n",
        "def format_time(seconds):\n",
        "    return \"{}:{:0>2}:{:0>2}\".format(int(seconds//3600), int((seconds//60)%60), int(seconds%60))\n",
        "\n",
        "#loads a batch from the dataset into memory\n",
        "def get_batch(batch_size, set='train'):\n",
        "    if set == 'train':\n",
        "        indices = np.random.randint(len(TRAIN_X), size=batch_size)\n",
        "        return TRAIN_X[indices], TRAIN_Y[indices]\n",
        "    elif set == 'test':\n",
        "        indices = np.random.randint(len(TEST_X), size=batch_size)\n",
        "        return TEST_X[indices], TEST_Y[indices]\n",
        "    elif set == 'valid':\n",
        "        lines = np.array([line for line in open('/content/datasets/emotion/val_text.txt').readlines() if line != ''])\n",
        "        indices = np.random.randint(len(VALID_X), size=batch_size)\n",
        "        return VALID_X[indices], VALID_Y[indices], lines[indices]"
      ],
      "execution_count": 18,
      "outputs": []
    },
    {
      "cell_type": "code",
      "metadata": {
        "id": "k8I88yh9Wd9N"
      },
      "source": [
        "def build_model(rnn_units=1024):\n",
        "    return Sequential([\n",
        "        layers.Embedding(input_dim=EMBEDDING_MATRIX.shape[0], output_dim=EMBEDDING_DIM, weights=[EMBEDDING_MATRIX], trainable=False),\n",
        "        layers.LSTM(input_dim=EMBEDDING_DIM, units=rnn_units, return_sequences=True),\n",
        "        layers.Dropout(0.5),\n",
        "        layers.LSTM(units=rnn_units, return_sequences=False),\n",
        "        layers.Dropout(0.5),\n",
        "        layers.Dense(OUTPUT_DIM, activation='softmax')\n",
        "    ])"
      ],
      "execution_count": 12,
      "outputs": []
    },
    {
      "cell_type": "code",
      "metadata": {
        "id": "-VBmiXIcapKQ"
      },
      "source": [
        "@tf.function\n",
        "def train_step(model, optimizer, x, y):\n",
        "    with tf.GradientTape() as tape:\n",
        "        y_hat = model(x)\n",
        "        loss = losses.categorical_crossentropy(y, y_hat)\n",
        "\n",
        "    grads = tape.gradient(loss, model.trainable_variables)\n",
        "    optimizer.apply_gradients(zip(grads, model.trainable_variables))\n",
        "    return loss\n",
        "\n",
        "def train(model, batch_size=32, lr=0.001, iterations=50000):\n",
        "    print(\"Training...\")\n",
        "    opt=optimizers.Adam(learning_rate=lr)\n",
        "    loss_history = []\n",
        "    prev_time = time.time()\n",
        "    time_elapsed = 0\n",
        "    for iteration in tqdm(range(iterations)):\n",
        "        #grab a batch and propagate it through the network\n",
        "        x_batch, y_batch = get_batch(batch_size)\n",
        "        loss = train_step(model, opt, x_batch, y_batch)\n",
        "\n",
        "        #update the loss history\n",
        "        loss_history.append(loss.numpy().mean())\n",
        "\n",
        "        #save weights after every 100 iterations\n",
        "        if iteration % 1000 == 0:\n",
        "            Sequential(model.layers[1:]).save_weights(\"rnn.h5\") # skip embedding layer (1st layer)\n",
        "\n",
        "        time_elapsed += time.time() - prev_time\n",
        "        prev_time = time.time()\n",
        "        #print(\"iteration {} of {}. Loss: {}. Time elapsed: {} seconds.\".format(iteration+1, iterations, loss.numpy().mean(), time_elapsed))\n",
        "\n",
        "    # Save the trained model and the weights\n",
        "    Sequential(model.layers[1:]).save_weights(\"rnn.h5\") # skip embedding layer (1st layer)\n",
        "\n",
        "    #plot a graph that will show how our loss varied with time\n",
        "    plt.plot(loss_history)\n",
        "    plt.title(\"Training progress\")\n",
        "    plt.xlabel(\"iterations\")\n",
        "    plt.ylabel(\"Loss\")\n",
        "    plt.show()\n"
      ],
      "execution_count": 16,
      "outputs": []
    },
    {
      "cell_type": "code",
      "metadata": {
        "colab": {
          "base_uri": "https://localhost:8080/"
        },
        "id": "WFHx80kQu2zK",
        "outputId": "de7d94c1-4fce-4d84-ba46-6702b2fd6f41"
      },
      "source": [
        "model = build_model()\n",
        "model.summary()\n",
        "train(model)"
      ],
      "execution_count": 13,
      "outputs": [
        {
          "output_type": "stream",
          "text": [
            "Model: \"sequential_3\"\n",
            "_________________________________________________________________\n",
            "Layer (type)                 Output Shape              Param #   \n",
            "=================================================================\n",
            "embedding_1 (Embedding)      (None, None, 300)         120000300 \n",
            "_________________________________________________________________\n",
            "lstm_2 (LSTM)                (None, None, 1024)        5427200   \n",
            "_________________________________________________________________\n",
            "dropout_2 (Dropout)          (None, None, 1024)        0         \n",
            "_________________________________________________________________\n",
            "lstm_3 (LSTM)                (None, 1024)              8392704   \n",
            "_________________________________________________________________\n",
            "dropout_3 (Dropout)          (None, 1024)              0         \n",
            "_________________________________________________________________\n",
            "dense_1 (Dense)              (None, 4)                 4100      \n",
            "=================================================================\n",
            "Total params: 133,824,304\n",
            "Trainable params: 13,824,004\n",
            "Non-trainable params: 120,000,300\n",
            "_________________________________________________________________\n"
          ],
          "name": "stdout"
        }
      ]
    },
    {
      "cell_type": "code",
      "metadata": {
        "colab": {
          "base_uri": "https://localhost:8080/",
          "height": 329
        },
        "id": "3bDZTkekjCPy",
        "outputId": "4b2709fb-ef21-48c3-e947-1abd1b7d998d"
      },
      "source": [
        ""
      ],
      "execution_count": 17,
      "outputs": [
        {
          "output_type": "stream",
          "text": [
            "Training...\n"
          ],
          "name": "stdout"
        },
        {
          "output_type": "stream",
          "text": [
            "100%|██████████| 10000/10000 [16:04<00:00, 10.37it/s]\n"
          ],
          "name": "stderr"
        },
        {
          "output_type": "display_data",
          "data": {
            "image/png": "[encoded data removed]",
            "text/plain": [
              "<Figure size 432x288 with 1 Axes>"
            ]
          },
          "metadata": {
            "needs_background": "light"
          }
        }
      ]
    },
    {
      "cell_type": "code",
      "metadata": {
        "colab": {
          "base_uri": "https://localhost:8080/"
        },
        "id": "bFX4NDHNoqhi",
        "outputId": "538d24dc-eb34-4884-95a7-efa732df724d"
      },
      "source": [
        "# inference\n",
        "\n",
        "seqs, labels, lines =  get_batch(50, 'valid')\n",
        "logits = model(seqs)\n",
        "for line, label, logit in zip(lines, labels, logits):\n",
        "    print(f\"Input: {line}Actual: {MAPPINGS[np.argmax(label)]}\\nPredicted:{MAPPINGS[np.argmax(logit)]}\\n\")"
      ],
      "execution_count": 36,
      "outputs": [
        {
          "output_type": "stream",
          "text": [
            "Input: Sarah is a complete lunatic. How Chad is still giving her his time is beyond me. #cbb #mad #crazy \n",
            "Actual: anger\n",
            "Predicted:anger\n",
            "\n",
            "Input: #depressed Today was bitter sweet watching all the kids go back to school made me really miss my babies. I'm so broke #backtoschool2017 \n",
            "Actual: sadness\n",
            "Predicted:sadness\n",
            "\n",
            "Input: today i feel like an exposed wire dangerously close to another exposed wire and any provocation will fry me \n",
            "Actual: anger\n",
            "Predicted:anger\n",
            "\n",
            "Input: Counting on you, Queensland. #StateOfOrigin #Broncos #maroons #blues #NSWBlues #qld \n",
            "Actual: joy\n",
            "Predicted:sadness\n",
            "\n",
            "Input: The next time I go to Lagos I will gate crash somebody's owambe dressed in lace and gele to eat amala and shake my waist😑 \n",
            "Actual: joy\n",
            "Predicted:sadness\n",
            "\n",
            "Input: @user @user what the phd!  eesav gattiga 😆 \n",
            "Actual: joy\n",
            "Predicted:joy\n",
            "\n",
            "Input: @user Very sad and upset and idk :/ \n",
            "Actual: sadness\n",
            "Predicted:sadness\n",
            "\n",
            "Input: @user thanks Hollywood, (Depp). all these climate change fanatics using private jets and gas guzzling cars are to blame for this! #outrage \n",
            "Actual: anger\n",
            "Predicted:anger\n",
            "\n",
            "Input: hit by a sudden wave of sadness \n",
            "Actual: sadness\n",
            "Predicted:sadness\n",
            "\n",
            "Input: fuck a nigga feelings till I find a nigga I'm feeling 😆 \n",
            "Actual: joy\n",
            "Predicted:anger\n",
            "\n",
            "Input: @user @user @user @user Absolutely shocking behavour!!!!!! \n",
            "Actual: anger\n",
            "Predicted:anger\n",
            "\n",
            "Input: @user @user Sebestian Gorka, what a arrogant A~hole! Has no business speaking!  \n",
            "Actual: anger\n",
            "Predicted:anger\n",
            "\n",
            "Input: @user @user @user u horrible non gender binary boy go fangirl over some mediocre singers who CANT EVEN SUPPORT \n",
            "Actual: anger\n",
            "Predicted:anger\n",
            "\n",
            "Input: @user thinks the Oliver North defense insulates @user but all it does is make @user look inept! #NYTimes  \n",
            "Actual: anger\n",
            "Predicted:anger\n",
            "\n",
            "Input: Don’t let the fear of losing be greater than the excitement of winning. ~Robert Kiyosaki\\n\\nAllOutDenimFor KISSMARC \n",
            "Actual: optimism\n",
            "Predicted:optimism\n",
            "\n",
            "Input: get to 84 and the intruder alarm is going off... lolz one of the PTs set it off 🙈 \n",
            "Actual: joy\n",
            "Predicted:anger\n",
            "\n",
            "Input: @user @user If this didn't make me so angry, I'd be laughing at this tweet! \n",
            "Actual: anger\n",
            "Predicted:joy\n",
            "\n",
            "Input: @user @user *on his back. Apologies for retweeting a tweet with grammatical error #mybad 😱 \n",
            "Actual: sadness\n",
            "Predicted:anger\n",
            "\n",
            "Input: @user i feel shy to call you a friend your a sister💙💙 \n",
            "Actual: joy\n",
            "Predicted:sadness\n",
            "\n",
            "Input: #revenge or #Change . You #ChooseASide for your country #India \n",
            "Actual: anger\n",
            "Predicted:anger\n",
            "\n",
            "Input: My new favourite #film with out a shadow of a doubt it #Okja #beautifull #funny #sad #emotional #real #Netflix #MUSTWATCH #now \n",
            "Actual: joy\n",
            "Predicted:sadness\n",
            "\n",
            "Input: work is going to kill me and 5 o'clock is nowhere near 😟 \n",
            "Actual: sadness\n",
            "Predicted:anger\n",
            "\n",
            "Input: Fed up of false info from @user mini store, pls hire or franchise ur mini stores to serve customers, not to threaten or force them! \n",
            "Actual: anger\n",
            "Predicted:anger\n",
            "\n",
            "Input: ----- #phobia = irrational fear of or aversion to something. Synonyms: dread, horror, terror, dislike, distaste, aversion BUT not a crime \n",
            "Actual: anger\n",
            "Predicted:sadness\n",
            "\n",
            "Input: When you only meet each other once at an interview and you recognise each other on the streets 🙆 I don't even know what's your name 😂 \n",
            "Actual: joy\n",
            "Predicted:anger\n",
            "\n",
            "Input: @user @user @user u horrible non gender binary boy go fangirl over some mediocre singers who CANT EVEN SUPPORT \n",
            "Actual: anger\n",
            "Predicted:anger\n",
            "\n",
            "Input: Can't stand it when lads put their middle finger up in pics  \n",
            "Actual: anger\n",
            "Predicted:optimism\n",
            "\n",
            "Input: Don’t let the fear of losing be greater than the excitement of winning. ~Robert Kiyosaki\\n\\nAllOutDenimFor KISSMARC \n",
            "Actual: optimism\n",
            "Predicted:optimism\n",
            "\n",
            "Input: @user sadly #digitakt seems to be out of stock all over Europe. Do you know  if any European online store that has it? \n",
            "Actual: sadness\n",
            "Predicted:sadness\n",
            "\n",
            "Input: @user Lord, we don't understand tragedy. Do what You do best: bring good grom it and comfort those who mourn. Amen \n",
            "Actual: optimism\n",
            "Predicted:anger\n",
            "\n",
            "Input: Theo's comment at the end😂 do one Tyla. #horrid #loveisland \n",
            "Actual: anger\n",
            "Predicted:joy\n",
            "\n",
            "Input: @user broke it down on #snap great analysis on #CNBC \n",
            "Actual: joy\n",
            "Predicted:joy\n",
            "\n",
            "Input: Just waved daughter and her wee friend off to school, walking by themselves #sob #terrifying! \n",
            "Actual: sadness\n",
            "Predicted:anger\n",
            "\n",
            "Input: SOLD OUT!!!! Next batch in 3 days!!!!    \n",
            "Actual: joy\n",
            "Predicted:joy\n",
            "\n",
            "Input: @user @user I'd be thrilled if he committed but nervous the whole time until NSD. Kid being from Cali makes me nervous. \n",
            "Actual: joy\n",
            "Predicted:sadness\n",
            "\n",
            "Input: dropped my birth control on the floor and cant find it cause it blends with the carpet 🙃 #joy \n",
            "Actual: joy\n",
            "Predicted:sadness\n",
            "\n",
            "Input: Alaina and I are at 90 days on our snap streak. So? \n",
            "Actual: optimism\n",
            "Predicted:joy\n",
            "\n",
            "Input: Sending love &amp; prayers to the families of @user Marines lost in the C-130 crash in Mississippi. May our Lord help abate the grief and sorrow \n",
            "Actual: sadness\n",
            "Predicted:sadness\n",
            "\n",
            "Input: Thinking about life this morning and how something is missing. — feeling restless \n",
            "Actual: sadness\n",
            "Predicted:sadness\n",
            "\n",
            "Input: fuck a nigga feelings till I find a nigga I'm feeling 😆 \n",
            "Actual: joy\n",
            "Predicted:anger\n",
            "\n",
            "Input: Hiya everyone if you want please #retweet my pin #rt #help #romance #wattpad    #hurt #tweet #twitter #thanks \n",
            "Actual: joy\n",
            "Predicted:anger\n",
            "\n",
            "Input: Head hurting 😤 \n",
            "Actual: sadness\n",
            "Predicted:sadness\n",
            "\n",
            "Input: @user What a miserable piece of shit 😡 \n",
            "Actual: anger\n",
            "Predicted:anger\n",
            "\n",
            "Input: @user #OOC Thing is she holds a grudge like mad \n",
            "Actual: anger\n",
            "Predicted:anger\n",
            "\n",
            "Input: @user broke it down on #snap great analysis on #CNBC \n",
            "Actual: joy\n",
            "Predicted:joy\n",
            "\n",
            "Input: @user @user All I know is the sentence will start with 'look...' like any high school punk would start a threat. \n",
            "Actual: anger\n",
            "Predicted:anger\n",
            "\n",
            "Input: Shame the cashback @user @user credit card comes to an end. I used to look forward to that end of year bonus. Sad really. #cashback  \n",
            "Actual: sadness\n",
            "Predicted:sadness\n",
            "\n",
            "Input: @user you're a cowan... that means you're a slimebag. I wouldn't trust you as far as I could throw you. #arsehole @user \n",
            "Actual: anger\n",
            "Predicted:anger\n",
            "\n",
            "Input: Counting on you, Queensland. #StateOfOrigin #Broncos #maroons #blues #NSWBlues #qld \n",
            "Actual: joy\n",
            "Predicted:sadness\n",
            "\n",
            "Input: So #glad all four of our #top picks got through on #AGT \n",
            "Actual: joy\n",
            "Predicted:joy\n",
            "\n"
          ],
          "name": "stdout"
        }
      ]
    }
  ]
}